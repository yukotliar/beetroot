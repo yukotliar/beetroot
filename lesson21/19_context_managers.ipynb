{
 "cells": [
  {
   "cell_type": "markdown",
   "metadata": {},
   "source": [
    "A `context manager` is an object that defines the runtime context to be established when executing a with statement. The context manager handles the entry into, and the exit from, the desired runtime context for the execution of the block of code. Context managers are normally invoked using the with statement, but can also be used by directly invoking their methods (__enter__, __exit__).\n",
    "\n",
    "Typical uses of context managers include saving and restoring various kinds of global state, locking and unlocking resources, closing opened files, etc.\n"
   ]
  },
  {
   "cell_type": "markdown",
   "metadata": {},
   "source": [
    "So, let's recap the with statement:\n",
    "\n",
    "- with_stmt ::=  \"with\" with_item (\",\" with_item)* \":\" suite\n",
    "- with_item ::=  expression [\"as\" target]"
   ]
  },
  {
   "cell_type": "code",
   "execution_count": null,
   "metadata": {},
   "outputs": [],
   "source": [
    "with A() as a, B() as b:\n",
    "    suite"
   ]
  },
  {
   "cell_type": "code",
   "execution_count": null,
   "metadata": {},
   "outputs": [],
   "source": [
    "with A() as a:\n",
    "    with B() as b:\n",
    "        suite"
   ]
  },
  {
   "cell_type": "markdown",
   "metadata": {},
   "source": [
    "The execution of the `with` statement with one `item` proceeds as follows:\n",
    "\n",
    "1. The context expression (the expression given in the with_item) is evaluated to obtain a context manager.\n",
    "\n",
    "2. The context manager’s __exit__() is loaded for later use.\n",
    "\n",
    "3. The context manager’s __enter__() method is invoked.\n",
    "\n",
    "4. If a target was included in the with statement, the return value from __enter__() is assigned to it.\n",
    "\n",
    "*Note* The with statement guarantees that if the `enter()` method returns without an error, then `exit()` will always be called. Thus, if an error occurs during the assignment to the target list, it will be treated the same as an error occurring within the suite. See step 6 below.\n",
    "5. The suite is executed.\n",
    "\n",
    "6. The context manager’s __exit__() method is invoked. If an exception caused the suite to be exited, its type, value, and traceback are passed as arguments to __exit__(). Otherwise, three None arguments are supplied.\n",
    "\n",
    "If the suite was exited due to an exception, and the return value from the __exit__() method was false, the exception is reraised. If the return value was true, the exception is suppressed, and execution continues with the statement following the with statement.\n",
    "\n",
    "If the suite was exited for any reason other than an exception, the return value from __exit__() is ignored, and execution proceeds at the normal location for the kind of exit that was taken."
   ]
  },
  {
   "cell_type": "code",
   "execution_count": null,
   "metadata": {},
   "outputs": [],
   "source": [
    "with open('temp.txt', 'r') as f:\n",
    "    data = f.read()\n",
    "    print(data)"
   ]
  },
  {
   "cell_type": "code",
   "execution_count": null,
   "metadata": {},
   "outputs": [],
   "source": [
    "f.closed"
   ]
  },
  {
   "cell_type": "markdown",
   "metadata": {},
   "source": [
    "## Implement class as context manager"
   ]
  },
  {
   "cell_type": "code",
   "execution_count": null,
   "metadata": {},
   "outputs": [],
   "source": [
    "class ContextManager:\n",
    "    \n",
    "    def __enter__(self):\n",
    "        pass\n",
    "    \n",
    "    def __exit__(exc_type, exc_val, exc_tb):\n",
    "        pass\n",
    "    "
   ]
  },
  {
   "cell_type": "code",
   "execution_count": null,
   "metadata": {},
   "outputs": [],
   "source": [
    "class MyCounter:\n",
    "    counter = 0\n",
    "    \n",
    "    @classmethod\n",
    "    def get_num_of_usage(cls):\n",
    "        return cls.counter\n",
    "    \n",
    "    \n",
    "    def __enter__(self):\n",
    "        MyCounter.counter += 1\n",
    "        return self\n",
    "        \n",
    "    \n",
    "    def __exit__(self, exc_type, exc_val, exc_tb):\n",
    "        print(f'Closing context, number of contexts is {self.counter}')\n",
    "        return None"
   ]
  },
  {
   "cell_type": "code",
   "execution_count": null,
   "metadata": {},
   "outputs": [],
   "source": [
    "with MyCounter() as counter:\n",
    "    print('Inside context manager suite.')\n",
    "    print('Call context manager instance method to get counter value:', counter.get_num_of_usage())"
   ]
  },
  {
   "cell_type": "code",
   "execution_count": null,
   "metadata": {},
   "outputs": [],
   "source": [
    "from contextlib import contextmanager"
   ]
  },
  {
   "cell_type": "code",
   "execution_count": null,
   "metadata": {},
   "outputs": [],
   "source": [
    "counter_value = 0\n",
    "\n",
    "@contextmanager\n",
    "def conter_func():\n",
    "    global counter_value\n",
    "    counter_value += 1\n",
    "    print('Same as inside __enter__')\n",
    "    yield counter_value\n",
    "    print('Same as inside __exit__')"
   ]
  },
  {
   "cell_type": "code",
   "execution_count": null,
   "metadata": {},
   "outputs": [],
   "source": [
    "with conter_func() as counter:\n",
    "    print('Inside context manager suite.')\n",
    "    print('Call context manager instance method to get counter value:', counter)"
   ]
  },
  {
   "cell_type": "code",
   "execution_count": null,
   "metadata": {},
   "outputs": [],
   "source": []
  },
  {
   "cell_type": "code",
   "execution_count": null,
   "metadata": {},
   "outputs": [],
   "source": []
  },
  {
   "cell_type": "code",
   "execution_count": null,
   "metadata": {},
   "outputs": [],
   "source": []
  },
  {
   "cell_type": "code",
   "execution_count": null,
   "metadata": {},
   "outputs": [],
   "source": []
  },
  {
   "cell_type": "code",
   "execution_count": null,
   "metadata": {},
   "outputs": [],
   "source": []
  },
  {
   "cell_type": "code",
   "execution_count": null,
   "metadata": {},
   "outputs": [],
   "source": []
  }
 ],
 "metadata": {
  "kernelspec": {
   "display_name": "Python 3",
   "language": "python",
   "name": "python3"
  },
  "language_info": {
   "codemirror_mode": {
    "name": "ipython",
    "version": 3
   },
   "file_extension": ".py",
   "mimetype": "text/x-python",
   "name": "python",
   "nbconvert_exporter": "python",
   "pygments_lexer": "ipython3",
   "version": "3.7.4"
  }
 },
 "nbformat": 4,
 "nbformat_minor": 2
}
