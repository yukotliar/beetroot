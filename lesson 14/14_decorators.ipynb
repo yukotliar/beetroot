{
 "cells": [
  {
   "cell_type": "markdown",
   "metadata": {
    "pycharm": {
     "name": "#%% md\n"
    }
   },
   "source": [
    "## Decorators\n",
    "Decorators are a significant part of Python. Simply put, they are functions that modify the functionality of other functions. They help to make our code shorter and more Pythonic"
   ]
  },
  {
   "cell_type": "code",
   "execution_count": 3,
   "metadata": {
    "pycharm": {
     "name": "#%%\n"
    }
   },
   "outputs": [],
   "source": [
    "def first_decorator(func):\n",
    "    def wrap():\n",
    "        print('before')\n",
    "        func()\n",
    "        print('after')\n",
    "    return wrap"
   ]
  },
  {
   "cell_type": "code",
   "execution_count": 4,
   "metadata": {
    "pycharm": {
     "name": "#%%\n"
    }
   },
   "outputs": [],
   "source": [
    "def test():\n",
    "    \"\"\"test function docs\"\"\"\n",
    "    print('inside test')"
   ]
  },
  {
   "cell_type": "code",
   "execution_count": 5,
   "metadata": {
    "pycharm": {
     "name": "#%%\n"
    }
   },
   "outputs": [
    {
     "data": {
      "text/plain": "'test'"
     },
     "execution_count": 5,
     "metadata": {},
     "output_type": "execute_result"
    }
   ],
   "source": [
    "test.__name__"
   ]
  },
  {
   "cell_type": "code",
   "execution_count": 6,
   "metadata": {
    "pycharm": {
     "name": "#%%\n"
    }
   },
   "outputs": [
    {
     "name": "stdout",
     "output_type": "stream",
     "text": [
      "Help on function test in module __main__:\n",
      "\n",
      "test()\n",
      "    test function docs\n",
      "\n"
     ]
    }
   ],
   "source": [
    "help(test)"
   ]
  },
  {
   "cell_type": "code",
   "execution_count": 8,
   "metadata": {
    "pycharm": {
     "name": "#%%\n"
    }
   },
   "outputs": [],
   "source": [
    "decorated_func = first_decorator(test)"
   ]
  },
  {
   "cell_type": "code",
   "execution_count": 9,
   "metadata": {
    "pycharm": {
     "name": "#%%\n"
    }
   },
   "outputs": [
    {
     "name": "stdout",
     "output_type": "stream",
     "text": [
      "inside test\n"
     ]
    }
   ],
   "source": [
    "test()"
   ]
  },
  {
   "cell_type": "code",
   "execution_count": 10,
   "metadata": {
    "pycharm": {
     "name": "#%%\n"
    }
   },
   "outputs": [
    {
     "name": "stdout",
     "output_type": "stream",
     "text": [
      "before\n",
      "inside test\n",
      "after\n"
     ]
    }
   ],
   "source": [
    "decorated_func()"
   ]
  },
  {
   "cell_type": "markdown",
   "metadata": {
    "pycharm": {
     "name": "#%% md\n"
    }
   },
   "source": [
    "Instead of writing code like this `decorated_func = first_decorator(test)` we can use special python syntax with `@` symbol"
   ]
  },
  {
   "cell_type": "code",
   "execution_count": 11,
   "metadata": {
    "pycharm": {
     "name": "#%%\n"
    }
   },
   "outputs": [],
   "source": [
    "@first_decorator\n",
    "def test():\n",
    "    \"\"\"test function docs\"\"\"\n",
    "    print('inside test')"
   ]
  },
  {
   "cell_type": "code",
   "execution_count": 12,
   "metadata": {
    "pycharm": {
     "name": "#%%\n"
    }
   },
   "outputs": [
    {
     "name": "stdout",
     "output_type": "stream",
     "text": [
      "before\n",
      "inside test\n",
      "after\n"
     ]
    }
   ],
   "source": [
    "test()"
   ]
  },
  {
   "cell_type": "code",
   "execution_count": 13,
   "metadata": {
    "pycharm": {
     "name": "#%%\n"
    }
   },
   "outputs": [
    {
     "data": {
      "text/plain": "'wrap'"
     },
     "execution_count": 13,
     "metadata": {},
     "output_type": "execute_result"
    }
   ],
   "source": [
    "test.__name__ #  the overwrites and docstring of our function"
   ]
  },
  {
   "cell_type": "code",
   "execution_count": 16,
   "metadata": {
    "pycharm": {
     "name": "#%%\n"
    }
   },
   "outputs": [],
   "source": [
    "test.__doc__"
   ]
  },
  {
   "cell_type": "code",
   "execution_count": 18,
   "metadata": {
    "pycharm": {
     "name": "#%%\n"
    }
   },
   "outputs": [],
   "source": [
    "from functools import wraps"
   ]
  },
  {
   "cell_type": "code",
   "execution_count": 19,
   "metadata": {
    "pycharm": {
     "name": "#%%\n"
    }
   },
   "outputs": [],
   "source": [
    "def first_decorator(func):\n",
    "    @wraps(func)\n",
    "    def wrap():\n",
    "        print('before')\n",
    "        func()\n",
    "        print('after')\n",
    "    return wrap\n",
    "\n",
    "@first_decorator\n",
    "def test():\n",
    "    \"\"\"test function docs\"\"\"\n",
    "    print('inside test')"
   ]
  },
  {
   "cell_type": "code",
   "execution_count": 20,
   "metadata": {
    "pycharm": {
     "name": "#%%\n"
    }
   },
   "outputs": [
    {
     "name": "stdout",
     "output_type": "stream",
     "text": [
      "before\n",
      "inside test\n",
      "after\n"
     ]
    }
   ],
   "source": [
    "test()"
   ]
  },
  {
   "cell_type": "code",
   "execution_count": 21,
   "metadata": {
    "pycharm": {
     "name": "#%%\n"
    }
   },
   "outputs": [
    {
     "data": {
      "text/plain": "'test'"
     },
     "execution_count": 21,
     "metadata": {},
     "output_type": "execute_result"
    }
   ],
   "source": [
    "test.__name__"
   ]
  },
  {
   "cell_type": "code",
   "execution_count": 22,
   "metadata": {
    "pycharm": {
     "name": "#%%\n"
    }
   },
   "outputs": [
    {
     "data": {
      "text/plain": "'test function docs'"
     },
     "execution_count": 22,
     "metadata": {},
     "output_type": "execute_result"
    }
   ],
   "source": [
    "test.__doc__"
   ]
  },
  {
   "cell_type": "markdown",
   "source": [
    "Passing arguments and a return value"
   ],
   "metadata": {
    "collapsed": false,
    "pycharm": {
     "name": "#%% md\n"
    }
   }
  },
  {
   "cell_type": "code",
   "execution_count": 23,
   "outputs": [],
   "source": [
    "def logging_decorator(func):\n",
    "    def wrapper(*args, **kwargs):\n",
    "        print(f\"\\t[LOG] \\t calling {func.__name__}\")\n",
    "        res = func(*args, **kwargs)\n",
    "        print(f\"\\t[LOG] called {func.__name__}\")\n",
    "        return res\n",
    "    return wrapper"
   ],
   "metadata": {
    "collapsed": false,
    "pycharm": {
     "name": "#%%\n"
    }
   }
  },
  {
   "cell_type": "code",
   "execution_count": 24,
   "outputs": [],
   "source": [
    "@logging_decorator\n",
    "def multiply(number_a:int, number_b:int):\n",
    "    \"\"\" multiplies two provided numbers \"\"\"\n",
    "    print(f\"\\t\\t=== Inside the multiply function\")\n",
    "    return number_a * number_b"
   ],
   "metadata": {
    "collapsed": false,
    "pycharm": {
     "name": "#%%\n"
    }
   }
  },
  {
   "cell_type": "code",
   "execution_count": 25,
   "outputs": [
    {
     "name": "stdout",
     "output_type": "stream",
     "text": [
      "\t[LOG] \t calling multiply\n",
      "\t\t=== Inside the multiply function\n",
      "\t[LOG] called multiply\n",
      "[result] \t 20\n"
     ]
    }
   ],
   "source": [
    "result = multiply(4, 5)\n",
    "print(f\"[result] \\t {result}\")"
   ],
   "metadata": {
    "collapsed": false,
    "pycharm": {
     "name": "#%%\n"
    }
   }
  },
  {
   "cell_type": "markdown",
   "source": [
    "Multiple decorators"
   ],
   "metadata": {
    "collapsed": false,
    "pycharm": {
     "name": "#%% md\n"
    }
   }
  },
  {
   "cell_type": "code",
   "execution_count": 26,
   "outputs": [],
   "source": [
    "def logging_decorator_1(func):\n",
    "  def wrapper(*args, **kwargs):\n",
    "    print(f\"[LOG1] \\t calling decorator 1\")\n",
    "    res = func(*args, **kwargs)\n",
    "    print(f\"[LOG1] called decorator 1\")\n",
    "    return res\n",
    "  return wrapper\n",
    "\n",
    "def logging_decorator_2(func):\n",
    "  def wrapper(*args, **kwargs):\n",
    "    print(f\"[LOG2] \\t calling decorator 2\")\n",
    "    res = func(*args, **kwargs)\n",
    "    print(f\"[LOG2] called decorator 2\")\n",
    "    return res\n",
    "  return wrapper"
   ],
   "metadata": {
    "collapsed": false,
    "pycharm": {
     "name": "#%%\n"
    }
   }
  },
  {
   "cell_type": "code",
   "execution_count": 27,
   "outputs": [],
   "source": [
    "@logging_decorator_1\n",
    "@logging_decorator_2\n",
    "def multiply(number_a:int, number_b:int):\n",
    "  \"\"\" multiplies two provided numbers \"\"\"\n",
    "  print(\"\\tmultiply function\")\n",
    "  return number_a * number_b"
   ],
   "metadata": {
    "collapsed": false,
    "pycharm": {
     "name": "#%%\n"
    }
   }
  },
  {
   "cell_type": "code",
   "execution_count": 28,
   "outputs": [
    {
     "name": "stdout",
     "output_type": "stream",
     "text": [
      "[LOG1] \t calling decorator 1\n",
      "[LOG2] \t calling decorator 2\n",
      "\tmultiply function\n",
      "[LOG2] called decorator 2\n",
      "[LOG1] called decorator 1\n",
      "[result] \t 20\n"
     ]
    }
   ],
   "source": [
    "result = multiply(4, 5)\n",
    "print(f\"[result] \\t {result}\")"
   ],
   "metadata": {
    "collapsed": false,
    "pycharm": {
     "name": "#%%\n"
    }
   }
  },
  {
   "cell_type": "markdown",
   "source": [
    "Passing arguments to decorators"
   ],
   "metadata": {
    "collapsed": false,
    "pycharm": {
     "name": "#%% md\n"
    }
   }
  },
  {
   "cell_type": "code",
   "execution_count": 29,
   "outputs": [],
   "source": [
    "def add_brake_log(size=2):\n",
    "    def add_brake_log_dec(func):\n",
    "        @wraps(func)\n",
    "        def wrap(*args, **kwargs):\n",
    "            for _ in range(size):\n",
    "                print('_' * 80)\n",
    "            func(*args, **kwargs)\n",
    "            for _ in range(size):\n",
    "                print('_' * 80)\n",
    "        return wrap\n",
    "    return add_brake_log_dec"
   ],
   "metadata": {
    "collapsed": false,
    "pycharm": {
     "name": "#%%\n"
    }
   }
  },
  {
   "cell_type": "code",
   "execution_count": 31,
   "outputs": [
    {
     "name": "stdout",
     "output_type": "stream",
     "text": [
      "________________________________________________________________________________\n",
      "inside test\n",
      "________________________________________________________________________________\n"
     ]
    }
   ],
   "source": [
    "@add_brake_log(size=1)\n",
    "def test():\n",
    "    \"\"\"test function docs\"\"\"\n",
    "    print('inside test')\n",
    "\n",
    "test()"
   ],
   "metadata": {
    "collapsed": false,
    "pycharm": {
     "name": "#%%\n"
    }
   }
  },
  {
   "cell_type": "markdown",
   "source": [
    "Decorator classes that have state"
   ],
   "metadata": {
    "collapsed": false,
    "pycharm": {
     "name": "#%% md\n"
    }
   }
  },
  {
   "cell_type": "code",
   "execution_count": 32,
   "outputs": [],
   "source": [
    "class ExecutionCounter:\n",
    "\n",
    "  def __init__(self, func):\n",
    "    self.func = func\n",
    "    self.call_count = 0\n",
    "  def __call__(self, *args, **kwargs):\n",
    "    self.call_count += 1\n",
    "    print(f\"Called {self.func.__name__} for the {self.call_count}th time\")\n",
    "    return self.func(*args, **kwargs)"
   ],
   "metadata": {
    "collapsed": false,
    "pycharm": {
     "name": "#%%\n"
    }
   }
  },
  {
   "cell_type": "code",
   "execution_count": 33,
   "outputs": [],
   "source": [
    "@ExecutionCounter\n",
    "def multiply(number_a:int, number_b:int):\n",
    "  \"\"\" multiplies two provided numbers \"\"\"\n",
    "  return number_a * number_b"
   ],
   "metadata": {
    "collapsed": false,
    "pycharm": {
     "name": "#%%\n"
    }
   }
  },
  {
   "cell_type": "code",
   "execution_count": 34,
   "outputs": [
    {
     "name": "stdout",
     "output_type": "stream",
     "text": [
      "Called multiply for the 1th time\n",
      "Called multiply for the 2th time\n",
      "Called multiply for the 3th time\n",
      "Called multiply for the 4th time\n",
      "res: (42, 70, 54, 8)\n"
     ]
    }
   ],
   "source": [
    "res1 = multiply(21, 2)\n",
    "res2 = multiply(14, 5)\n",
    "res3 = multiply(6, 9)\n",
    "res4 = multiply(4, 2)\n",
    "print(f\"res: {res1, res2, res3, res4}\")"
   ],
   "metadata": {
    "collapsed": false,
    "pycharm": {
     "name": "#%%\n"
    }
   }
  },
  {
   "cell_type": "markdown",
   "source": [
    "Interaction between decorator args and function args"
   ],
   "metadata": {
    "collapsed": false,
    "pycharm": {
     "name": "#%% md\n"
    }
   }
  },
  {
   "cell_type": "code",
   "execution_count": 37,
   "outputs": [],
   "source": [
    "def check_password(password):\n",
    "  def outer_wrapper(func):\n",
    "    def wrapper(*args, **kwargs):\n",
    "      provided_pass = kwargs.get(\"password\") or args[0]\n",
    "      if provided_pass != password:\n",
    "        raise ValueError(\"Incorrect password\")\n",
    "\n",
    "      res = func(*args, **kwargs)\n",
    "      return res\n",
    "    return wrapper\n",
    "  return outer_wrapper"
   ],
   "metadata": {
    "collapsed": false,
    "pycharm": {
     "name": "#%%\n"
    }
   }
  },
  {
   "cell_type": "code",
   "execution_count": 38,
   "outputs": [],
   "source": [
    "@check_password(password=\"mypassword\")\n",
    "def public_api_request(password):\n",
    "  \"\"\" Prints some text if the provided password is correct \"\"\"\n",
    "  print(\"You can only see this if you provided the right answer\")"
   ],
   "metadata": {
    "collapsed": false,
    "pycharm": {
     "name": "#%%\n"
    }
   }
  },
  {
   "cell_type": "code",
   "execution_count": 39,
   "outputs": [
    {
     "name": "stdout",
     "output_type": "stream",
     "text": [
      "You can only see this if you provided the right answer\n",
      "Incorrect password\n"
     ]
    }
   ],
   "source": [
    "try:\n",
    "    public_api_request(password='mypassword')\n",
    "except Exception as e:\n",
    "    print(e)\n",
    "\n",
    "try:\n",
    "    public_api_request(password='wrongpassword')\n",
    "except Exception as e:\n",
    "    print(e)"
   ],
   "metadata": {
    "collapsed": false,
    "pycharm": {
     "name": "#%%\n"
    }
   }
  },
  {
   "cell_type": "markdown",
   "source": [
    "Decorators in API\n",
    "- Валідація JSON\n",
    "- Кешування\n",
    "- Задання шляху і методу запиту\n",
    "- Модифікація параметрів запиту"
   ],
   "metadata": {
    "collapsed": false,
    "pycharm": {
     "name": "#%% md\n"
    }
   }
  },
  {
   "cell_type": "code",
   "execution_count": 43,
   "outputs": [
    {
     "name": "stdout",
     "output_type": "stream",
     "text": [
      "Calculating fibonacci(6)\n",
      "Calculating fibonacci(5)\n",
      "Calculating fibonacci(4)\n",
      "Calculating fibonacci(3)\n",
      "Calculating fibonacci(2)\n",
      "Calculating fibonacci(1)\n",
      "Calculating fibonacci(0)\n"
     ]
    },
    {
     "data": {
      "text/plain": "8"
     },
     "execution_count": 43,
     "metadata": {},
     "output_type": "execute_result"
    }
   ],
   "source": [
    "from functools import lru_cache\n",
    "@lru_cache(maxsize=4)\n",
    "def fibonacci(num):\n",
    "    print(f\"Calculating fibonacci({num})\")\n",
    "    if num < 2:\n",
    "        return num\n",
    "    return fibonacci(num - 1) + fibonacci(num - 2)\n",
    "\n",
    "fibonacci(6)"
   ],
   "metadata": {
    "collapsed": false,
    "pycharm": {
     "name": "#%%\n"
    }
   }
  },
  {
   "cell_type": "code",
   "execution_count": null,
   "outputs": [],
   "source": [
    "@app.route(\"/grade\", methods=[\"POST\"])\n",
    "def update_grade():\n",
    "    json_data = request.get_json()\n",
    "    if \"student_id\" not in json_data:\n",
    "        abort(400)\n",
    "    # Update database\n",
    "    return \"success!\""
   ],
   "metadata": {
    "collapsed": false,
    "pycharm": {
     "name": "#%%\n"
    }
   }
  }
 ],
 "metadata": {
  "kernelspec": {
   "display_name": "Python 3",
   "language": "python",
   "name": "python3"
  },
  "language_info": {
   "codemirror_mode": {
    "name": "ipython",
    "version": 3
   },
   "file_extension": ".py",
   "mimetype": "text/x-python",
   "name": "python",
   "nbconvert_exporter": "python",
   "pygments_lexer": "ipython3",
   "version": "3.7.4"
  }
 },
 "nbformat": 4,
 "nbformat_minor": 2
}