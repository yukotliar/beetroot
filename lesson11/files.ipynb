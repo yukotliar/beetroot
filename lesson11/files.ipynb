{
 "cells": [
  {
   "cell_type": "markdown",
   "source": [
    "fileobj = open(filename, mode)Перша літера рядка mode вказує на операцію з файлом:\n",
    "\n",
    "r - означає читання з файла\n",
    "w - означає запис в існуючий файл (якщо файла не існує, він буде створений)\n",
    "x - означає запис у новий файл, тобто, якщо файла не існує (він буде створений)\n",
    "a - означає додавання в кінець файла, якщо файл існує\n",
    "\n",
    "Друга літера рядка mode вказує на тип файла:\n",
    "t (або нічого) - означає, що файл текстовий\n",
    "b - означає, що файл бінарний"
   ],
   "metadata": {
    "collapsed": false,
    "pycharm": {
     "name": "#%% md\n"
    }
   }
  },
  {
   "cell_type": "code",
   "execution_count": 15,
   "outputs": [],
   "source": [
    "fileobj = open('poem.txt', 'r', encoding='utf-8') #encoding='utf-8'"
   ],
   "metadata": {
    "collapsed": false,
    "pycharm": {
     "name": "#%%\n"
    }
   }
  },
  {
   "cell_type": "code",
   "execution_count": 16,
   "outputs": [
    {
     "data": {
      "text/plain": "<_io.TextIOWrapper name='poem.txt' mode='r' encoding='utf-8'>"
     },
     "execution_count": 16,
     "metadata": {},
     "output_type": "execute_result"
    }
   ],
   "source": [
    "fileobj"
   ],
   "metadata": {
    "collapsed": false,
    "pycharm": {
     "name": "#%%\n"
    }
   }
  },
  {
   "cell_type": "code",
   "execution_count": 17,
   "outputs": [
    {
     "data": {
      "text/plain": "'Була весна весела, щедра, мила,\\nПромінням грала, сипала квітки,\\nВона летіла хутко, мов стокрила,\\nЗа нею вслід співучії пташки!'"
     },
     "execution_count": 17,
     "metadata": {},
     "output_type": "execute_result"
    }
   ],
   "source": [
    "fileobj.read()"
   ],
   "metadata": {
    "collapsed": false,
    "pycharm": {
     "name": "#%%\n"
    }
   }
  },
  {
   "cell_type": "code",
   "execution_count": 19,
   "outputs": [
    {
     "ename": "ValueError",
     "evalue": "I/O operation on closed file.",
     "output_type": "error",
     "traceback": [
      "\u001B[1;31m---------------------------------------------------------------------------\u001B[0m",
      "\u001B[1;31mValueError\u001B[0m                                Traceback (most recent call last)",
      "Input \u001B[1;32mIn [19]\u001B[0m, in \u001B[0;36m<cell line: 2>\u001B[1;34m()\u001B[0m\n\u001B[0;32m      1\u001B[0m fileobj\u001B[38;5;241m.\u001B[39mclose()\n\u001B[1;32m----> 2\u001B[0m \u001B[43mfileobj\u001B[49m\u001B[38;5;241;43m.\u001B[39;49m\u001B[43mread\u001B[49m\u001B[43m(\u001B[49m\u001B[43m)\u001B[49m\n",
      "\u001B[1;31mValueError\u001B[0m: I/O operation on closed file."
     ]
    }
   ],
   "source": [
    "fileobj.close()\n",
    "# fileobj.read()"
   ],
   "metadata": {
    "collapsed": false,
    "pycharm": {
     "name": "#%%\n"
    }
   }
  },
  {
   "cell_type": "markdown",
   "source": [
    "Запис даних у файл"
   ],
   "metadata": {
    "collapsed": false,
    "pycharm": {
     "name": "#%% md\n"
    }
   }
  },
  {
   "cell_type": "code",
   "execution_count": 20,
   "outputs": [],
   "source": [
    "poem = '''The mighty Dnieper roars and bellows,\n",
    "The wind in anger howls and raves,\n",
    "Down to the ground it bends the willows,\n",
    "And mountain-high lifts up the waves.'''"
   ],
   "metadata": {
    "collapsed": false,
    "pycharm": {
     "name": "#%%\n"
    }
   }
  },
  {
   "cell_type": "code",
   "execution_count": 21,
   "outputs": [
    {
     "name": "stdout",
     "output_type": "stream",
     "text": [
      "151\n"
     ]
    }
   ],
   "source": [
    "frecord = open('result.txt', 'wt')\n",
    "a = frecord.write(poem)\n",
    "frecord.close()\n",
    "print(a)"
   ],
   "metadata": {
    "collapsed": false,
    "pycharm": {
     "name": "#%%\n"
    }
   }
  },
  {
   "cell_type": "code",
   "execution_count": 23,
   "outputs": [],
   "source": [
    "# frecord = open('result.txt', 'wt')\n",
    "# print(poem, file=frecord)\n",
    "# frecord.close()\n",
    "\n",
    "frecord = open('result.txt', 'wt')\n",
    "print(poem, file=frecord, sep='', end='')\n",
    "frecord.close()"
   ],
   "metadata": {
    "collapsed": false,
    "pycharm": {
     "name": "#%%\n"
    }
   }
  },
  {
   "cell_type": "markdown",
   "source": [
    "Захист від перезапису файлу"
   ],
   "metadata": {
    "collapsed": false,
    "pycharm": {
     "name": "#%% md\n"
    }
   }
  },
  {
   "cell_type": "code",
   "execution_count": 25,
   "outputs": [],
   "source": [
    "frecord = open('result1.txt', 'xt')"
   ],
   "metadata": {
    "collapsed": false,
    "pycharm": {
     "name": "#%%\n"
    }
   }
  },
  {
   "cell_type": "code",
   "execution_count": 27,
   "outputs": [],
   "source": [
    "frecord.write(poem)\n",
    "frecord.close()"
   ],
   "metadata": {
    "collapsed": false,
    "pycharm": {
     "name": "#%%\n"
    }
   }
  },
  {
   "cell_type": "code",
   "execution_count": 28,
   "outputs": [
    {
     "name": "stdout",
     "output_type": "stream",
     "text": [
      "result.txt already exists!\n"
     ]
    }
   ],
   "source": [
    "try:\n",
    "    frecord = open('result.txt', 'xt')\n",
    "    frecord.write(poem)\n",
    "except FileExistsError:\n",
    "    print('result.txt already exists!')"
   ],
   "metadata": {
    "collapsed": false,
    "pycharm": {
     "name": "#%%\n"
    }
   }
  },
  {
   "cell_type": "markdown",
   "source": [
    "Зчитування файлу read() and readline()"
   ],
   "metadata": {
    "collapsed": false,
    "pycharm": {
     "name": "#%% md\n"
    }
   }
  },
  {
   "cell_type": "code",
   "execution_count": 36,
   "outputs": [],
   "source": [
    "freading = open('result.txt', 'rt' )"
   ],
   "metadata": {
    "collapsed": false,
    "pycharm": {
     "name": "#%%\n"
    }
   }
  },
  {
   "cell_type": "code",
   "execution_count": 30,
   "outputs": [
    {
     "name": "stdout",
     "output_type": "stream",
     "text": [
      "The mighty Dnieper roars and bellows,\n",
      "The wind in anger howls and raves,\n",
      "Down to the ground it bends the willows,\n",
      "And mountain-high lifts up the waves.\n",
      "151\n"
     ]
    }
   ],
   "source": [
    "poem = freading.read()\n",
    "print(poem)\n",
    "print(len(poem))"
   ],
   "metadata": {
    "collapsed": false,
    "pycharm": {
     "name": "#%%\n"
    }
   }
  },
  {
   "cell_type": "code",
   "execution_count": 37,
   "outputs": [
    {
     "name": "stdout",
     "output_type": "stream",
     "text": [
      "60\n",
      "60\n",
      "31\n",
      "The mighty Dnieper roars and bellows,\n",
      "The wind in anger howls and raves,\n",
      "Down to the ground it bends the willows,\n",
      "And mountain-high lifts up the waves.\n"
     ]
    }
   ],
   "source": [
    "poem = ''\n",
    "chunk = 60\n",
    "while True:\n",
    "    fragment = freading.read(chunk)\n",
    "    if not fragment:\n",
    "        break\n",
    "    poem += fragment\n",
    "    print(len(fragment))\n",
    "print(poem)"
   ],
   "metadata": {
    "collapsed": false,
    "pycharm": {
     "name": "#%%\n"
    }
   }
  },
  {
   "cell_type": "code",
   "execution_count": 38,
   "outputs": [
    {
     "name": "stdout",
     "output_type": "stream",
     "text": [
      "The mighty Dnieper roars and bellows,\n",
      "The wind in anger howls and raves,\n",
      "Down to the ground it bends the willows,\n",
      "And mountain-high lifts up the waves.\n"
     ]
    }
   ],
   "source": [
    "poem = ''\n",
    "freading = open('result.txt', 'rt' )\n",
    "while True:\n",
    "    line = freading.readline()\n",
    "    if not line:\n",
    "        break\n",
    "    poem += line\n",
    "print(poem)"
   ],
   "metadata": {
    "collapsed": false,
    "pycharm": {
     "name": "#%%\n"
    }
   }
  },
  {
   "cell_type": "code",
   "execution_count": 40,
   "outputs": [
    {
     "name": "stdout",
     "output_type": "stream",
     "text": [
      "The mighty Dnieper roars and bellows,\n",
      "The wind in anger howls and raves,\n",
      "Down to the ground it bends the willows,\n",
      "And mountain-high lifts up the waves.\n"
     ]
    }
   ],
   "source": [
    "freading = open('result.txt', 'rt' )\n",
    "poem = ''\n",
    "for line in freading:\n",
    "    poem += line\n",
    "print(poem)"
   ],
   "metadata": {
    "collapsed": false,
    "pycharm": {
     "name": "#%%\n"
    }
   }
  },
  {
   "cell_type": "code",
   "execution_count": 44,
   "outputs": [
    {
     "name": "stdout",
     "output_type": "stream",
     "text": [
      "4 lines read\n",
      "['The mighty Dnieper roars and bellows,\\n', 'The wind in anger howls and raves,\\n', 'Down to the ground it bends the willows,\\n', 'And mountain-high lifts up the waves.']\n",
      "The mighty Dnieper roars and bellows,\n",
      "The wind in anger howls and raves,\n",
      "Down to the ground it bends the willows,\n",
      "And mountain-high lifts up the waves.\n"
     ]
    }
   ],
   "source": [
    "freading = open('result.txt', 'rt' )\n",
    "lines = freading.readlines()\n",
    "print(len(lines), 'lines read')\n",
    "print(lines)\n",
    "for line in lines:\n",
    "    print(line.rstrip()) #Функція rstrip() видаляє символи нового рядка \\n у кожному із виведених рядків,\n",
    "                         # окрім останнього, в якому цей символ відсутній.\n",
    "freading.close()"
   ],
   "metadata": {
    "collapsed": false,
    "pycharm": {
     "name": "#%%\n"
    }
   }
  },
  {
   "cell_type": "markdown",
   "source": [
    "Інструкція with (автоматичне закриття файлу)\n",
    "\n",
    "with вираз as змінна:\n",
    "\tблок коду"
   ],
   "metadata": {
    "collapsed": false,
    "pycharm": {
     "name": "#%% md\n"
    }
   }
  },
  {
   "cell_type": "code",
   "execution_count": 46,
   "outputs": [
    {
     "ename": "ValueError",
     "evalue": "I/O operation on closed file.",
     "output_type": "error",
     "traceback": [
      "\u001B[1;31m---------------------------------------------------------------------------\u001B[0m",
      "\u001B[1;31mValueError\u001B[0m                                Traceback (most recent call last)",
      "Input \u001B[1;32mIn [46]\u001B[0m, in \u001B[0;36m<cell line: 4>\u001B[1;34m()\u001B[0m\n\u001B[0;32m      1\u001B[0m \u001B[38;5;28;01mwith\u001B[39;00m \u001B[38;5;28mopen\u001B[39m(\u001B[38;5;124m'\u001B[39m\u001B[38;5;124mresult.txt\u001B[39m\u001B[38;5;124m'\u001B[39m, \u001B[38;5;124m'\u001B[39m\u001B[38;5;124mwt\u001B[39m\u001B[38;5;124m'\u001B[39m) \u001B[38;5;28;01mas\u001B[39;00m freading:\n\u001B[0;32m      2\u001B[0m \tfreading\u001B[38;5;241m.\u001B[39mwrite(poem)\n\u001B[1;32m----> 4\u001B[0m \u001B[43mfreading\u001B[49m\u001B[38;5;241;43m.\u001B[39;49m\u001B[43mread\u001B[49m\u001B[43m(\u001B[49m\u001B[43m)\u001B[49m\n",
      "\u001B[1;31mValueError\u001B[0m: I/O operation on closed file."
     ]
    }
   ],
   "source": [
    "with open('result.txt', 'wt') as freading:\n",
    "\tfreading.write(poem)\n",
    "\n",
    "freading.read()"
   ],
   "metadata": {
    "collapsed": false,
    "pycharm": {
     "name": "#%%\n"
    }
   }
  },
  {
   "cell_type": "markdown",
   "source": [
    "JSON"
   ],
   "metadata": {
    "collapsed": false,
    "pycharm": {
     "name": "#%% md\n"
    }
   }
  },
  {
   "cell_type": "code",
   "execution_count": 1,
   "outputs": [],
   "source": [
    "import json"
   ],
   "metadata": {
    "collapsed": false,
    "pycharm": {
     "name": "#%%\n"
    }
   }
  },
  {
   "cell_type": "code",
   "execution_count": 3,
   "outputs": [
    {
     "name": "stdout",
     "output_type": "stream",
     "text": [
      "{'sol_keys': [], 'validity_checks': {'1197': {'AT': {'sol_hours_with_data': [7, 8, 9, 10, 11, 12, 13, 14, 15, 16, 17, 18, 19, 20, 21], 'valid': False}, 'HWS': {'sol_hours_with_data': [7, 8, 9, 10, 11, 12, 13, 14, 15, 16, 17, 18, 19, 20, 21], 'valid': False}, 'PRE': {'sol_hours_with_data': [7, 8, 9, 10, 11, 12, 13, 14, 15, 16, 17, 18, 19, 20, 21], 'valid': False}, 'WD': {'sol_hours_with_data': [7, 8, 9, 10, 11, 12, 13, 14, 15, 16, 17, 18, 19, 20, 21], 'valid': False}}, '1199': {'AT': {'sol_hours_with_data': [20, 21, 22, 23], 'valid': False}, 'PRE': {'sol_hours_with_data': [20, 21, 22, 23], 'valid': False}}, '1200': {'AT': {'sol_hours_with_data': [0, 1, 2, 3, 4, 5, 6, 7, 8], 'valid': False}, 'PRE': {'sol_hours_with_data': [0, 1, 2, 3, 4, 5, 6, 7, 8], 'valid': False}}, 'sol_hours_required': 18, 'sols_checked': ['1197', '1199', '1200']}}\n",
      "['1197', '1199', '1200']\n",
      "True\n"
     ]
    }
   ],
   "source": [
    "with open('nasa.json', 'r') as file_json:\n",
    "    weather = json.load(file_json)\n",
    "    print(weather)\n",
    "    print(weather['validity_checks']['sols_checked'])\n",
    "    print(isinstance(weather, dict))"
   ],
   "metadata": {
    "collapsed": false,
    "pycharm": {
     "name": "#%%\n"
    }
   }
  },
  {
   "cell_type": "code",
   "execution_count": 7,
   "outputs": [
    {
     "name": "stdout",
     "output_type": "stream",
     "text": [
      "{\"sol_keys\": [], \"validity_checks\": {\"1197\": {\"AT\": {\"sol_hours_with_data\": [7, 8, 9, 10, 11, 12, 13, 14, 15, 16, 17, 18, 19, 20, 21], \"valid\": false}, \"HWS\": {\"sol_hours_with_data\": [7, 8, 9, 10, 11, 12, 13, 14, 15, 16, 17, 18, 19, 20, 21], \"valid\": false}, \"PRE\": {\"sol_hours_with_data\": [7, 8, 9, 10, 11, 12, 13, 14, 15, 16, 17, 18, 19, 20, 21], \"valid\": false}, \"WD\": {\"sol_hours_with_data\": [7, 8, 9, 10, 11, 12, 13, 14, 15, 16, 17, 18, 19, 20, 21], \"valid\": false}}, \"1199\": {\"AT\": {\"sol_hours_with_data\": [20, 21, 22, 23], \"valid\": false}, \"PRE\": {\"sol_hours_with_data\": [20, 21, 22, 23], \"valid\": false}}, \"1200\": {\"AT\": {\"sol_hours_with_data\": [0, 1, 2, 3, 4, 5, 6, 7, 8], \"valid\": false}, \"PRE\": {\"sol_hours_with_data\": [0, 1, 2, 3, 4, 5, 6, 7, 8], \"valid\": false}}, \"sol_hours_required\": 18, \"sols_checked\": [\"1197\", \"1199\", \"1200\"]}}\n",
      "True\n"
     ]
    },
    {
     "data": {
      "text/plain": "845"
     },
     "execution_count": 7,
     "metadata": {},
     "output_type": "execute_result"
    }
   ],
   "source": [
    "weather_str = json.dumps(weather)\n",
    "print(weather_str)\n",
    "print(isinstance(weather_str, str))\n",
    "len(weather_str)"
   ],
   "metadata": {
    "collapsed": false,
    "pycharm": {
     "name": "#%%\n"
    }
   }
  },
  {
   "cell_type": "code",
   "execution_count": 8,
   "outputs": [],
   "source": [
    "with open('nasa_out.json', 'w') as file_json:\n",
    "    json.dump(weather, file_json)"
   ],
   "metadata": {
    "collapsed": false,
    "pycharm": {
     "name": "#%%\n"
    }
   }
  },
  {
   "cell_type": "code",
   "execution_count": 9,
   "outputs": [
    {
     "name": "stdout",
     "output_type": "stream",
     "text": [
      "{'sol_keys': [], 'validity_checks': {'1197': {'AT': {'sol_hours_with_data': [7, 8, 9, 10, 11, 12, 13, 14, 15, 16, 17, 18, 19, 20, 21], 'valid': False}, 'HWS': {'sol_hours_with_data': [7, 8, 9, 10, 11, 12, 13, 14, 15, 16, 17, 18, 19, 20, 21], 'valid': False}, 'PRE': {'sol_hours_with_data': [7, 8, 9, 10, 11, 12, 13, 14, 15, 16, 17, 18, 19, 20, 21], 'valid': False}, 'WD': {'sol_hours_with_data': [7, 8, 9, 10, 11, 12, 13, 14, 15, 16, 17, 18, 19, 20, 21], 'valid': False}}, '1199': {'AT': {'sol_hours_with_data': [20, 21, 22, 23], 'valid': False}, 'PRE': {'sol_hours_with_data': [20, 21, 22, 23], 'valid': False}}, '1200': {'AT': {'sol_hours_with_data': [0, 1, 2, 3, 4, 5, 6, 7, 8], 'valid': False}, 'PRE': {'sol_hours_with_data': [0, 1, 2, 3, 4, 5, 6, 7, 8], 'valid': False}}, 'sol_hours_required': 18, 'sols_checked': ['1197', '1199', '1200']}}\n",
      "True\n"
     ]
    }
   ],
   "source": [
    "weather_dict = json.loads(weather_str)\n",
    "print(weather_dict)\n",
    "print(isinstance(weather_dict, dict))"
   ],
   "metadata": {
    "collapsed": false,
    "pycharm": {
     "name": "#%%\n"
    }
   }
  },
  {
   "cell_type": "code",
   "execution_count": null,
   "outputs": [],
   "source": [],
   "metadata": {
    "collapsed": false,
    "pycharm": {
     "name": "#%%\n"
    }
   }
  }
 ],
 "metadata": {
  "kernelspec": {
   "display_name": "Python 3",
   "language": "python",
   "name": "python3"
  },
  "language_info": {
   "codemirror_mode": {
    "name": "ipython",
    "version": 2
   },
   "file_extension": ".py",
   "mimetype": "text/x-python",
   "name": "python",
   "nbconvert_exporter": "python",
   "pygments_lexer": "ipython2",
   "version": "2.7.6"
  }
 },
 "nbformat": 4,
 "nbformat_minor": 0
}