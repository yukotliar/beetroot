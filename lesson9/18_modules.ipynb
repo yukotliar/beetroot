{
 "cells": [
  {
   "cell_type": "markdown",
   "source": [
    "## sys.path and PYTHONPATH"
   ],
   "metadata": {
    "collapsed": false,
    "pycharm": {
     "name": "#%% md\n"
    }
   }
  },
  {
   "cell_type": "markdown",
   "source": [
    "A __module__ is a single .py file with Python code.\n",
    "A __package__ is a directory that can contains multiple Python modules."
   ],
   "metadata": {
    "collapsed": false,
    "pycharm": {
     "name": "#%% md\n"
    }
   }
  },
  {
   "cell_type": "code",
   "execution_count": 1,
   "metadata": {
    "collapsed": true,
    "pycharm": {
     "name": "#%%\n"
    }
   },
   "outputs": [],
   "source": [
    "import sys"
   ]
  },
  {
   "cell_type": "markdown",
   "source": [
    "When you call import in the Python interpreter searches through a set of directories for the name provided. The list of directories that it searches is stored in sys.path and can be modified during run-time. To modify the paths before starting Python, you can modify the PYTHONPATH environment variable."
   ],
   "metadata": {
    "collapsed": false,
    "pycharm": {
     "name": "#%% md\n"
    }
   }
  },
  {
   "cell_type": "code",
   "execution_count": 2,
   "outputs": [
    {
     "data": {
      "text/plain": "['D:\\\\Programs\\\\PyCharm 2020.1.3\\\\plugins\\\\python\\\\helpers-pro\\\\jupyter_debug',\n 'D:\\\\Programs\\\\PyCharm 2020.1.3\\\\plugins\\\\python\\\\helpers\\\\pydev',\n 'D:\\\\Beetroot\\\\modules',\n 'D:\\\\Beetroot',\n 'D:\\\\Programs\\\\Python\\\\python39.zip',\n 'D:\\\\Programs\\\\Python\\\\DLLs',\n 'D:\\\\Programs\\\\Python\\\\lib',\n 'D:\\\\Programs\\\\Python',\n 'D:\\\\Beetroot\\\\venv',\n '',\n 'D:\\\\Beetroot\\\\venv\\\\lib\\\\site-packages',\n 'D:\\\\Beetroot\\\\venv\\\\lib\\\\site-packages\\\\win32',\n 'D:\\\\Beetroot\\\\venv\\\\lib\\\\site-packages\\\\win32\\\\lib',\n 'D:\\\\Beetroot\\\\venv\\\\lib\\\\site-packages\\\\Pythonwin']"
     },
     "execution_count": 2,
     "metadata": {},
     "output_type": "execute_result"
    }
   ],
   "source": [
    "sys.path"
   ],
   "metadata": {
    "collapsed": false,
    "pycharm": {
     "name": "#%%\n"
    }
   }
  },
  {
   "cell_type": "markdown",
   "source": [
    "## Initializing sys.path\n",
    "\n",
    "There are three ways to specify a path :\n",
    "__DEFAULT__ - By default, the interpreter looks for a module within the current directory. To make the interpreter search in some other directory you just simply have to change the current directory.\n",
    "__THROUGH ENVIRONMENT VARIABLES__ - An environment variable that contains the path an interpreter can take while looking for modules can be employed. Once set, it hints interpreter with directories to locate a module.\n",
    "__APPENDING PATH__ - append() is a built-in function of sys module that can be used with path variable to add a specific path for interpreter to search."
   ],
   "metadata": {
    "collapsed": false,
    "pycharm": {
     "name": "#%% md\n"
    }
   }
  },
  {
   "cell_type": "code",
   "execution_count": null,
   "outputs": [],
   "source": [
    "sys.path"
   ],
   "metadata": {
    "collapsed": false,
    "pycharm": {
     "name": "#%%\n"
    }
   }
  },
  {
   "cell_type": "code",
   "execution_count": null,
   "outputs": [],
   "source": [
    "# PYTHONPATH=C:\\Users\\Username\\Desktop"
   ],
   "metadata": {
    "collapsed": false,
    "pycharm": {
     "name": "#%%\n"
    }
   }
  },
  {
   "cell_type": "code",
   "execution_count": null,
   "outputs": [],
   "source": [
    "sys.path.append('C:/Users/Username/Desktop')"
   ],
   "metadata": {
    "collapsed": false,
    "pycharm": {
     "name": "#%%\n"
    }
   }
  },
  {
   "cell_type": "markdown",
   "source": [
    "So, the only reason to use PYTHONPATH variables is to maintain directories of custom Python libraries that are not installed in the site packages directory (the global default location).\n",
    "\n",
    "_https://www.simplilearn.com/tutorials/python-tutorial/python-path_\n",
    "set PYTHONPATH=C:\\pypath1\\;C:\\pypath2\\"
   ],
   "metadata": {
    "collapsed": false,
    "pycharm": {
     "name": "#%% md\n"
    }
   }
  },
  {
   "cell_type": "markdown",
   "source": [
    "# \\_\\_init\\_\\_.py and \\_\\_main\\_\\_.py"
   ],
   "metadata": {
    "collapsed": false,
    "pycharm": {
     "name": "#%% md\n"
    }
   }
  },
  {
   "cell_type": "markdown",
   "source": [
    "The difference between a module and a package in a moment, but the main idea is this:\n",
    "\n",
    "- When you import a package it runs the \\_\\_init\\_\\_.py file inside the package directory.\n",
    "- When you execute a package (e.g. python -m my_package) it executes the \\_\\_main\\_\\_.py file.\n",
    "- When you import a module it runs the entire file from top to bottom.\n",
    "- When you execute a module ir runs the entire file from top-to-bottom and sets the \\_\\_name\\_\\_ variable to the string \"\\_\\_main\\_\\_\"."
   ],
   "metadata": {
    "collapsed": false,
    "pycharm": {
     "name": "#%% md\n"
    }
   }
  },
  {
   "cell_type": "markdown",
   "source": [
    "In a package"
   ],
   "metadata": {
    "collapsed": false,
    "pycharm": {
     "name": "#%% md\n"
    }
   }
  },
  {
   "cell_type": "code",
   "execution_count": 6,
   "outputs": [],
   "source": [
    "import os\n",
    "\n",
    "def list_files(startpath):\n",
    "    for root, dirs, files in os.walk(startpath):\n",
    "        level = root.replace(startpath, '').count(os.sep)\n",
    "        indent = ' ' * 4 * (level)\n",
    "        print('{}{}/'.format(indent, os.path.basename(root)))\n",
    "        subindent = ' ' * 4 * (level + 1)\n",
    "        for f in files:\n",
    "            print('{}{}'.format(subindent, f))"
   ],
   "metadata": {
    "collapsed": false,
    "pycharm": {
     "name": "#%%\n"
    }
   }
  },
  {
   "cell_type": "code",
   "execution_count": 8,
   "outputs": [
    {
     "name": "stdout",
     "output_type": "stream",
     "text": [
      "modules/\n",
      "    18_modules.ipynb\n",
      "    my_package/\n",
      "        some_other_module.py\n",
      "        __init__.py\n",
      "        __main__.py\n"
     ]
    }
   ],
   "source": [
    "list_files('D:\\Beetroot\\modules')"
   ],
   "metadata": {
    "collapsed": false,
    "pycharm": {
     "name": "#%%\n"
    }
   }
  },
  {
   "cell_type": "markdown",
   "source": [
    "In a module"
   ],
   "metadata": {
    "collapsed": false,
    "pycharm": {
     "name": "#%% md\n"
    }
   }
  },
  {
   "cell_type": "code",
   "execution_count": null,
   "outputs": [],
   "source": [
    "# my_module.py\n",
    "print('This will run when the file is imported.')\n",
    "\n",
    "def my_function():\n",
    "    print('Executing function. This will only run when the function is called.')\n",
    "\n",
    "if __name__ == '__main__':\n",
    "    print('This will get executed only if')\n",
    "    print('the module is invoked directly.')\n",
    "    print('It will not run when this module is imported')\n",
    "    my_function()"
   ],
   "metadata": {
    "collapsed": false,
    "pycharm": {
     "name": "#%%\n"
    }
   }
  },
  {
   "cell_type": "markdown",
   "source": [
    "Try out a few different things to understand how it works:\n",
    "\n",
    "- Run the file directly with Python: python my_module.py\n",
    "- Invoke the module with -m flag: python -m my_module\n",
    "- Import the module from another Python file: python -c \"import my_module\"\n",
    "- Import and call the function defined: python -c \"import my_module; my_module.my_function()\""
   ],
   "metadata": {
    "collapsed": false,
    "pycharm": {
     "name": "#%% md\n"
    }
   }
  },
  {
   "cell_type": "markdown",
   "source": [
    "## Module search path\n",
    "\n",
    "When the interpreter executes the above import statement, it searches for *.py in a list of directories assembled from the following sources:\n",
    "\n",
    "- The directory from which the input script was run, or the current directory if the interpreter is being run interactively\n",
    "- The list of directories contained in the PYTHONPATH environment variable, if it is set. (The format for PYTHONPATH is OS-dependent but should mimic the PATH environment variable.)\n",
    "- An installation-dependent list of directories configured at the time Python is installed"
   ],
   "metadata": {
    "collapsed": false,
    "pycharm": {
     "name": "#%% md\n"
    }
   }
  },
  {
   "cell_type": "code",
   "execution_count": null,
   "outputs": [],
   "source": [
    "/some-parent-directory # This needs to be on sys.path\n",
    "    /mymodule  # This is not really a module - it's a package\n",
    "        __init__.py  # import mymodule\n",
    "        # init is loaded when you `import mymodule` or anything below it\n",
    "        some.py  # import mymodule.some\n",
    "        implementation.py  # import mymodule.implementation\n",
    "        files.py  # import mymodule.files\n",
    "        /submodule\n",
    "            __init__.py  # import mymodule.submodule\n",
    "            # init is loaded when you `import mymodule.submodule` or anything below it\n",
    "            submodule_impl.py  # import mymodule.submodule.submodule_impl\n",
    "            goes.py  # import mymodule.submodule.goes\n",
    "            here.py  # import mymodule.submodule.here"
   ],
   "metadata": {
    "collapsed": false,
    "pycharm": {
     "name": "#%%\n"
    }
   }
  },
  {
   "cell_type": "markdown",
   "source": [
    "# Absolute and Relative imports"
   ],
   "metadata": {
    "collapsed": false,
    "pycharm": {
     "name": "#%% md\n"
    }
   }
  },
  {
   "cell_type": "markdown",
   "source": [
    "__Absolute import__ involves full path i.e., from the project’s root folder to the desired module. An absolute import state that the resource to be imported using its full path from the project’s root folder."
   ],
   "metadata": {
    "collapsed": false,
    "pycharm": {
     "name": "#%% md\n"
    }
   }
  },
  {
   "cell_type": "code",
   "execution_count": null,
   "outputs": [],
   "source": [
    "from package1 import module1\n",
    "from package1.module2 import function1\n",
    "from package2 import class1\n",
    "from package2.subpackage1.module5 import function2"
   ],
   "metadata": {
    "collapsed": false,
    "pycharm": {
     "name": "#%%\n"
    }
   }
  },
  {
   "cell_type": "markdown",
   "source": [
    "Absolute imports are preferred because they are quite clear and straightforward. It is easy to tell exactly where the imported resource is, just by looking at the statement. Additionally, absolute imports remain valid even if the current location of the import statement changes. In fact, PEP 8 explicitly recommends absolute imports."
   ],
   "metadata": {
    "collapsed": false,
    "pycharm": {
     "name": "#%% md\n"
    }
   }
  },
  {
   "cell_type": "markdown",
   "source": [
    "A __relative import__ specifies the resource to be imported relative to the current location—that is, the location where the import statement is."
   ],
   "metadata": {
    "collapsed": false,
    "pycharm": {
     "name": "#%% md\n"
    }
   }
  },
  {
   "cell_type": "code",
   "execution_count": null,
   "outputs": [],
   "source": [
    "from .some_module import some_class\n",
    "from ..some_package import some_function\n",
    "from . import some_class"
   ],
   "metadata": {
    "collapsed": false,
    "pycharm": {
     "name": "#%%\n"
    }
   }
  },
  {
   "cell_type": "markdown",
   "source": [
    "A single dot means that the module or package referenced is in the same directory as the current location. Two dots mean that it is in the parent directory of the current location—that is, the directory above. The single dot means that you are importing from the current package."
   ],
   "metadata": {
    "collapsed": false,
    "pycharm": {
     "name": "#%% md\n"
    }
   }
  },
  {
   "cell_type": "markdown",
   "source": [
    "Pros:\n",
    "- Working with relative imports is concise and clear.\n",
    "- Based on current location it reduces the complexity of an import statement.\n",
    "\n",
    "Cons:\n",
    "- Relative imports is not so readable as absolute ones.\n",
    "- Using relative imports it is not easy because it is very hard to tell the location of a module."
   ],
   "metadata": {
    "collapsed": false,
    "pycharm": {
     "name": "#%% md\n"
    }
   }
  }
 ],
 "metadata": {
  "kernelspec": {
   "display_name": "Python 3",
   "language": "python",
   "name": "python3"
  },
  "language_info": {
   "codemirror_mode": {
    "name": "ipython",
    "version": 2
   },
   "file_extension": ".py",
   "mimetype": "text/x-python",
   "name": "python",
   "nbconvert_exporter": "python",
   "pygments_lexer": "ipython2",
   "version": "2.7.6"
  }
 },
 "nbformat": 4,
 "nbformat_minor": 0
}