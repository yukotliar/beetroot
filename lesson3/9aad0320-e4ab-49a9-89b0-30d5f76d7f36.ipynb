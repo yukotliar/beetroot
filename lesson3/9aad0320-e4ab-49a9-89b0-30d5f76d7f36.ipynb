{
 "cells": [
  {
   "cell_type": "markdown",
   "metadata": {},
   "source": [
    "Let's explore the concept of iterations and python while control structure."
   ]
  },
  {
   "cell_type": "code",
   "execution_count": null,
   "metadata": {},
   "outputs": [],
   "source": [
    "our_threshold = 5\n",
    "i = 0"
   ]
  },
  {
   "cell_type": "code",
   "execution_count": null,
   "metadata": {},
   "outputs": [],
   "source": [
    "while i < our_threshold:\n",
    "    print('Do important logic here.')\n",
    "    i += 1"
   ]
  },
  {
   "cell_type": "code",
   "execution_count": null,
   "metadata": {},
   "outputs": [],
   "source": [
    "i"
   ]
  },
  {
   "cell_type": "markdown",
   "metadata": {},
   "source": [
    "If evaluation is `False`, the code suite in while won't be executed"
   ]
  },
  {
   "cell_type": "code",
   "execution_count": null,
   "metadata": {},
   "outputs": [],
   "source": [
    "i = 10\n",
    "while i < our_threshold:\n",
    "    print('Do important logic here.')\n",
    "    i += 1"
   ]
  },
  {
   "cell_type": "code",
   "execution_count": null,
   "metadata": {},
   "outputs": [],
   "source": [
    "print(i)"
   ]
  },
  {
   "cell_type": "markdown",
   "metadata": {},
   "source": [
    "## Break and continue"
   ]
  },
  {
   "cell_type": "code",
   "execution_count": null,
   "metadata": {},
   "outputs": [],
   "source": [
    "our_threshold = 10\n",
    "i = 0\n",
    "\n",
    "while i < our_threshold:\n",
    "    print(f'Variable i: {i}.', end=' ')\n",
    "    print('Do important logic here.')\n",
    "    i += 1\n",
    "    if i % 7 == 0:\n",
    "        print('Good reason to stop')\n",
    "        break"
   ]
  },
  {
   "cell_type": "code",
   "execution_count": null,
   "metadata": {},
   "outputs": [],
   "source": [
    "our_threshold = 23\n",
    "i = 1\n",
    "\n",
    "while i < our_threshold:\n",
    "    print(f'Variable i: {i}.', end=' ')\n",
    "    if i % 7 == 0:\n",
    "        print('Do very very important task and that`s it')\n",
    "        i += 1\n",
    "        continue # try to comment\n",
    "    \n",
    "    print('Do important logic here.')\n",
    "    i += 1"
   ]
  },
  {
   "cell_type": "markdown",
   "metadata": {},
   "source": [
    "Sometimes it is important to know that in your `while` loop, which has one or more `break` statements, a `break` of iterations actually took place or not."
   ]
  },
  {
   "cell_type": "code",
   "execution_count": null,
   "metadata": {},
   "outputs": [],
   "source": [
    "our_threshold = 6 # try to change to 6\n",
    "i = 0\n",
    "\n",
    "while i < our_threshold:\n",
    "    print(f'Variable i: {i}.', end=' ')\n",
    "    print('Do important logic here.')\n",
    "    i += 1\n",
    "    if i % 7 == 0:\n",
    "        print('Something went wrong')\n",
    "        everything_ok = False\n",
    "        break\n",
    "else:\n",
    "    print('This imporatant logic will take place only if nothing broken')"
   ]
  },
  {
   "cell_type": "code",
   "execution_count": null,
   "metadata": {},
   "outputs": [],
   "source": [
    "while 1:\n",
    "    print('OK')"
   ]
  }
 ],
 "metadata": {
  "kernelspec": {
   "display_name": "Python 3",
   "language": "python",
   "name": "python3"
  },
  "language_info": {
   "codemirror_mode": {
    "name": "ipython",
    "version": 3
   },
   "file_extension": ".py",
   "mimetype": "text/x-python",
   "name": "python",
   "nbconvert_exporter": "python",
   "pygments_lexer": "ipython3",
   "version": "3.7.4"
  }
 },
 "nbformat": 4,
 "nbformat_minor": 2
}
