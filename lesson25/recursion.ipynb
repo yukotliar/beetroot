{
 "cells": [
  {
   "cell_type": "markdown",
   "source": [],
   "metadata": {
    "collapsed": false,
    "pycharm": {
     "name": "#%% md\n"
    }
   }
  },
  {
   "cell_type": "markdown",
   "source": [
    "https://www.geeksforgeeks.org/recursion/"
   ],
   "metadata": {
    "collapsed": false,
    "pycharm": {
     "name": "#%% md\n"
    }
   }
  },
  {
   "cell_type": "markdown",
   "source": [
    "### Advantages of using recursion\n",
    "\n",
    "A complicated function can be split down into smaller sub-problems utilizing recursion.\n",
    "Sequence creation is simpler through recursion than utilizing any nested iteration.\n",
    "Recursive functions render the code look simple and effective.\n",
    "\n",
    "### Disadvantages of using recursion\n",
    "\n",
    "A lot of memory and time is taken through recursive calls which makes it expensive for use.\n",
    "Recursive functions are challenging to debug.\n",
    "The reasoning behind recursion can sometimes be tough to think through."
   ],
   "metadata": {
    "collapsed": false,
    "pycharm": {
     "name": "#%% md\n"
    }
   }
  },
  {
   "cell_type": "code",
   "execution_count": null,
   "metadata": {
    "collapsed": true,
    "pycharm": {
     "name": "#%%\n"
    }
   },
   "outputs": [],
   "source": [
    "def func(): <--\n",
    "              |\n",
    "              | (recursive call)\n",
    "              |\n",
    "    func() ----"
   ]
  },
  {
   "cell_type": "code",
   "execution_count": null,
   "outputs": [],
   "source": [
    "def recursive_factorial(n):\n",
    "   if n == 1:\n",
    "       return n\n",
    "   else:\n",
    "       return n * recursive_factorial(n-1)\n",
    "\n",
    "# user input\n",
    "num = 6\n",
    "\n",
    "# check if the input is valid or not\n",
    "if num < 0:\n",
    "   print(\"Invalid input ! Please enter a positive number.\")\n",
    "elif num == 0:\n",
    "   print(\"Factorial of number 0 is 1\")\n",
    "else:\n",
    "   print(\"Factorial of number\", num, \"=\", recursive_factorial(num))"
   ],
   "metadata": {
    "collapsed": false,
    "pycharm": {
     "name": "#%%\n"
    }
   }
  },
  {
   "cell_type": "code",
   "execution_count": null,
   "outputs": [],
   "source": [
    "def recursive_fibonacci(n):\n",
    "   if n <= 1:\n",
    "       return n\n",
    "   else:\n",
    "       return recursive_fibonacci(n-1) + recursive_fibonacci(n-2)\n",
    "\n",
    "n_terms = 10\n",
    "\n",
    "# check if the number of terms is valid\n",
    "if n_terms <= 0:\n",
    "   print(\"Invalid input ! Please input a positive value\")\n",
    "else:\n",
    "   print(\"Fibonacci series:\")\n",
    "   for i in range(n_terms):\n",
    "       print(recursive_fibonacci(i))"
   ],
   "metadata": {
    "collapsed": false,
    "pycharm": {
     "name": "#%%\n"
    }
   }
  },
  {
   "cell_type": "code",
   "execution_count": null,
   "outputs": [],
   "source": [
    "def binary(n):\n",
    "    if n == 0:\n",
    "        return\n",
    "\n",
    "    binary(n // 2)\n",
    "    print(n % 2, end=\"\")\n",
    "\n",
    "binary(123)"
   ],
   "metadata": {
    "collapsed": false,
    "pycharm": {
     "name": "#%%\n"
    }
   }
  },
  {
   "cell_type": "code",
   "execution_count": null,
   "outputs": [],
   "source": [
    "def calc_gcd(num1,num2):\n",
    "    if num2 == 0 :\n",
    "        return num1\n",
    "    else:\n",
    "        return calc_gcd(num2,num1%num2)\n",
    "\n",
    "num1 = int(input(\"Enter First Number : \"))\n",
    "num2 = int(input(\"Enter Second Number : \"))\n",
    "result = calc_gcd(num1,num2)\n",
    "print(\"GCD is : {}\".format(result))"
   ],
   "metadata": {
    "collapsed": false,
    "pycharm": {
     "name": "#%%\n"
    }
   }
  },
  {
   "cell_type": "markdown",
   "source": [
    "https://medium.com/@egemenokte/solving-the-8-queens-puzzle-recursively-with-python-6440078b68ad"
   ],
   "metadata": {
    "collapsed": false,
    "pycharm": {
     "name": "#%% md\n"
    }
   }
  },
  {
   "cell_type": "code",
   "execution_count": null,
   "outputs": [],
   "source": [
    "import numpy as np\n",
    "import copy\n",
    "\n",
    "\n",
    "def possible(grid, y, x):  #is it possible to place a queen into y,x?\n",
    "\n",
    "    l = len(grid)  #how big is our grid?\n",
    "\n",
    "    for i in range(l):  #check for queens on row y\n",
    "        if grid[y][i] == 1:  #if exist return false\n",
    "            return False\n",
    "    for i in range(l):  #check for queens on column x\n",
    "        if grid[i][x] == 1:  #if exists return 0\n",
    "            return False\n",
    "\n",
    "    for i in range(l):  #loop through all rows\n",
    "        for j in range(l):  #and columns\n",
    "            if grid[i][j] == 1:  #if there is a queen\n",
    "                if abs(i - y) == abs(j - x):  #and if there is another on a diagonal\n",
    "                    return False  #return false\n",
    "    return True  #if every check clears, we can return true\n",
    "\n",
    "\n",
    "def solve(grid):\n",
    "    l = len(grid)  #length of our grid\n",
    "\n",
    "    for y in range(l):  #for every row\n",
    "        for x in range(l):  #for every column\n",
    "            if grid[y][x] == 0:  # we can place if there is no queen in given position\n",
    "                if possible(grid, y, x):  #if empty, check if we can place a queen\n",
    "                    grid[y][x] = 1  #if we can, then place it\n",
    "                    solve(grid)  #pass grid for recursive solution\n",
    "                    #if we end up here, means we searched through all children branches\n",
    "                    if sum(sum(a) for a in grid) == l:  #if there are 8 queens\n",
    "                        return grid  #we are successful so return\n",
    "                    grid[y][x] = 0  #remove the previous placed queen\n",
    "\n",
    "    return grid  #means we searched the space, we can return our result\n",
    "\n",
    "\n",
    "def plot(grid):  # Plot the solution on a chessboard\n",
    "    import seaborn as sns\n",
    "    import matplotlib.pyplot as plt\n",
    "    import string\n",
    "\n",
    "    l = len(grid)\n",
    "    Ly = list(range(1, l + 1))[::-1]\n",
    "    ly = [str(i) for i in Ly]\n",
    "    Lx = list(string.ascii_uppercase)\n",
    "    lx = Lx[:l]\n",
    "\n",
    "    plt.close('all')\n",
    "    sns.set(font_scale=2)\n",
    "    plt.figure(figsize=(10, 10))\n",
    "    ax = plt.gca()  #you first need to get the axis handle\n",
    "    ax.set_aspect(1)\n",
    "    sns.heatmap(Solution, linewidths=.8, cbar=False, linecolor='blue',\n",
    "                cmap='Reds', center=0.4, xticklabels=lx, yticklabels=ly)\n",
    "\n",
    "N = 8\n",
    "grid = np.zeros([N, N], dtype=int)\n",
    "grid = grid.tolist()\n",
    "##\n",
    "print('Solving {} by {} Chess Board\\n'.format(N, N))\n",
    "Solution = solve(copy.deepcopy(grid))  #get the solution\n",
    "print(np.matrix(Solution))  #Print the solution\n",
    "plot(grid)"
   ],
   "metadata": {
    "collapsed": false,
    "pycharm": {
     "name": "#%%\n"
    }
   }
  }
 ],
 "metadata": {
  "kernelspec": {
   "display_name": "Python 3",
   "language": "python",
   "name": "python3"
  },
  "language_info": {
   "codemirror_mode": {
    "name": "ipython",
    "version": 2
   },
   "file_extension": ".py",
   "mimetype": "text/x-python",
   "name": "python",
   "nbconvert_exporter": "python",
   "pygments_lexer": "ipython2",
   "version": "2.7.6"
  }
 },
 "nbformat": 4,
 "nbformat_minor": 0
}